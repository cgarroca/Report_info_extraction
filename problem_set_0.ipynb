{
  "nbformat": 4,
  "nbformat_minor": 0,
  "metadata": {
    "colab": {
      "provenance": [],
      "include_colab_link": true
    },
    "kernelspec": {
      "name": "python3",
      "display_name": "Python 3"
    },
    "language_info": {
      "name": "python"
    }
  },
  "cells": [
    {
      "cell_type": "markdown",
      "metadata": {
        "id": "view-in-github",
        "colab_type": "text"
      },
      "source": [
        "<a href=\"https://colab.research.google.com/github/cgarroca/Report_info_extraction/blob/Test1/problem_set_0.ipynb\" target=\"_parent\"><img src=\"https://colab.research.google.com/assets/colab-badge.svg\" alt=\"Open In Colab\"/></a>"
      ]
    },
    {
      "cell_type": "markdown",
      "source": [
        "## Problem Set 0\n",
        "## GRAD-C24\n",
        "## Submit by: 11.09.2022, 23:59\n",
        "## Student Name: "
      ],
      "metadata": {
        "id": "iIFe8JP_lr4M"
      }
    },
    {
      "cell_type": "markdown",
      "source": [
        "This problem set is not worth any points, it is to make sure everyone knows how to use Github for the assignments and has some hands on experience with how this will work during the semester. \n",
        "\n",
        "This is a great moment to talk to your peers and ask questions if you're struggling to make it work!"
      ],
      "metadata": {
        "id": "La3WxJkIlg-w"
      }
    },
    {
      "cell_type": "markdown",
      "source": [
        "### Instructions: \n",
        "You will create a string with your name, and print it with the classic hello world! format. Everyone in the programming community has gone through this rite of passage. \n",
        "\n",
        "Once you are done, please push it into out ML class github repo. "
      ],
      "metadata": {
        "id": "VpxGs9E5mL0e"
      }
    },
    {
      "cell_type": "code",
      "source": [
        "#Create a variable called 'name' and assign to this variable a string with your name.\n",
        "\n"
      ],
      "metadata": {
        "id": "H_mCIV4AmjfA"
      },
      "execution_count": null,
      "outputs": []
    },
    {
      "cell_type": "code",
      "source": [
        "#Print 'Hello world! My name is:\" and concatenate the variable name.\n"
      ],
      "metadata": {
        "id": "VKjiaIypmsuV"
      },
      "execution_count": null,
      "outputs": []
    },
    {
      "cell_type": "markdown",
      "source": [
        "Congrats! You have created your first Python script!\n",
        "Now push this before the deadline into our repo and we will see each other again next week!"
      ],
      "metadata": {
        "id": "eKgj3q7Dm8sB"
      }
    }
  ]
}